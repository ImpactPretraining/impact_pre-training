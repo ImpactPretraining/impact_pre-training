{
  "nbformat": 4,
  "nbformat_minor": 0,
  "metadata": {
    "colab": {
      "name": "fine_tuning.ipynb",
      "provenance": [],
      "collapsed_sections": [],
      "machine_shape": "hm",
      "include_colab_link": true
    },
    "kernelspec": {
      "name": "python3",
      "display_name": "Python 3"
    },
    "language_info": {
      "name": "python"
    },
    "accelerator": "TPU",
    "gpuClass": "standard"
  },
  "cells": [
    {
      "cell_type": "markdown",
      "metadata": {
        "id": "view-in-github",
        "colab_type": "text"
      },
      "source": [
        "<a href=\"https://colab.research.google.com/github/ImpactPretraining/impact_pre-training/blob/main/fine_tuning.ipynb\" target=\"_parent\"><img src=\"https://colab.research.google.com/assets/colab-badge.svg\" alt=\"Open In Colab\"/></a>"
      ]
    },
    {
      "cell_type": "code",
      "execution_count": 1,
      "metadata": {
        "id": "wPjBRwKu1EOg"
      },
      "outputs": [],
      "source": [
        "# from google.colab import auth\n",
        "# auth.authenticate_user()\n",
        "\n",
        "import os\n",
        "os.environ['USE_AUTH_EPHEM'] = '0'\n",
        "\n",
        "from google.colab import auth\n",
        "auth.authenticate_user()\n",
        "\n",
        "#@title ## Set Your GCS credential\n",
        "project_id = 'literaturereview-358312' #@param {type:\"string\"}\n",
        "bucket_name = 'literature_review' #@param {type:\"string\"}\n",
        "\n",
        "!gcloud config set project {project_id}\n",
        "\n",
        "!pip3 install --upgrade pip\n",
        "!pip install -qU t5==0.9.2\n",
        "!pip install -q tensorflow-text==2.8.0rc0\n",
        "!pip3 install keras==2.7.0\n",
        "!pip3 install gin-config\n",
        "\n",
        "import functools\n",
        "import os\n",
        "import time\n",
        "import warnings\n",
        "warnings.filterwarnings(\"ignore\", category=DeprecationWarning)\n",
        "import tensorflow.compat.v1 as tf\n",
        "import tensorflow_datasets as tfds\n",
        "import t5\n",
        "\n",
        "tf.flags.DEFINE_string('f','','')\n",
        "\n",
        "#Set the base dir(Google cloud bucket)\n",
        "BASE_DIR = \"gs://\" + bucket_name \n",
        "\n",
        "if not BASE_DIR or BASE_DIR == \"gs://\":\n",
        "  raise ValueError(\"You must enter a BASE_DIR.\")\n",
        "ON_CLOUD = True\n",
        "\n",
        "\n",
        "if ON_CLOUD:\n",
        "  import tensorflow_gcs_config\n",
        "  from google.colab import auth\n",
        "  # Set credentials for GCS reading/writing from Colab and TPU.\n",
        "  TPU_TOPOLOGY = \"2x2\"\n",
        "  try:\n",
        "    tpu = tf.distribute.cluster_resolver.TPUClusterResolver()  # TPU detection\n",
        "    TPU_ADDRESS = tpu.get_master()\n",
        "    print('Running on TPU:', TPU_ADDRESS)\n",
        "  except ValueError:\n",
        "    raise BaseException('ERROR: Not connected to a TPU runtime; please see the previous cell in this notebook for instructions!')\n",
        "  auth.authenticate_user()\n",
        "  tf.compat.v1.enable_eager_execution(config=None, device_policy=None, execution_mode=None)\n",
        "  tf.config.experimental_connect_to_host(TPU_ADDRESS)\n",
        "  tensorflow_gcs_config.configure_gcs_from_colab_auth()\n",
        "\n",
        "tf.disable_v2_behavior()\n",
        "\n",
        "# Improve logging.\n",
        "from contextlib import contextmanager\n",
        "import logging as py_logging\n",
        "\n",
        "if ON_CLOUD:\n",
        "  tf.get_logger().propagate = False\n",
        "  py_logging.root.setLevel('INFO')\n",
        "\n",
        "@contextmanager\n",
        "def tf_verbosity_level(level):\n",
        "  og_level = tf.logging.get_verbosity()\n",
        "  tf.logging.set_verbosity(level)\n",
        "  yield\n",
        "  tf.logging.set_verbosity(og_level)"
      ]
    },
    {
      "cell_type": "code",
      "source": [
        "## training and validation sets\n",
        "\n",
        "#@title ## Set training and valitadion dataset paths\n",
        "training_set_path = 'gs://literature_review/data/fine-tuning/bug-fix/train.tsv' #@param {type:\"string\"} \n",
        "validation_set_path = 'gs://literature_review/data/fine-tuning/bug-fix/val.tsv' #@param {type:\"string\"}\n",
        "\n",
        "nq_tsv_path = {\n",
        "    \"train\": training_set_path,\n",
        "    \"validation\": validation_set_path\n",
        "}\n",
        "\n",
        "!gsutil cp {nq_tsv_path[\"train\"]} ./train.tsv\n",
        "!gsutil cp {nq_tsv_path[\"validation\"]} ./val.tsv\n",
        "\n",
        "data_train = len([line for line in open('./train.tsv', 'r')])\n",
        "data_val = len([line for line in open('./val.tsv', 'r')])\n",
        "\n",
        "num_nq_examples = dict(train=data_train, validation=data_val)"
      ],
      "metadata": {
        "id": "B-U_JygM1en4"
      },
      "execution_count": 2,
      "outputs": []
    },
    {
      "cell_type": "code",
      "source": [
        "from t5.data import postprocessors as t5_postprocessors\n",
        "from t5.seqio import Feature,SentencePieceVocabulary\n",
        "\n",
        "#@title ## Set tokenizer's model and vocab paths\n",
        "vocab_model_path = 'gs://literature_review/tokenizer/BPE_Model.model' #@param {type:\"string\"} \n",
        "vocab_path = 'gs://literature_review/tokenizer/BPE_Model.vocab' #@param {type:\"string\"}\n",
        "\n",
        "TaskRegistry = t5.data.TaskRegistry\n",
        "TfdsTask = t5.data.TfdsTask\n",
        "\n",
        "def get_default_vocabulary():\n",
        "  return SentencePieceVocabulary(vocab_model_path, 100)\n",
        "\n",
        "DEFAULT_OUTPUT_FEATURES = {\n",
        "    \"inputs\": Feature(\n",
        "        vocabulary=get_default_vocabulary(), add_eos=True, required=False),\n",
        "\n",
        "    \"targets\": Feature(\n",
        "        vocabulary=get_default_vocabulary(), add_eos=True)\n",
        "}"
      ],
      "metadata": {
        "id": "IfwXi6Ee1uLw"
      },
      "execution_count": null,
      "outputs": []
    },
    {
      "cell_type": "code",
      "source": [
        "#@title ## Set fine-tuning task\n",
        "fine_tuning_task = 'bug_fix' #@param [\"bug_fix\", \"code_completion\", \"code_summarization\"]\n",
        "\n",
        "def nq_dataset(split, shuffle_files=True):\n",
        "  # We only have one file for each split.\n",
        "  del shuffle_files\n",
        "\n",
        "  # Load lines from the text file as examples.\n",
        "  ds = tf.data.TextLineDataset(nq_tsv_path[split])\n",
        "  ds = ds.map(\n",
        "      functools.partial(tf.io.decode_csv, record_defaults=[\"string\",\"string\"],\n",
        "                        field_delim=\"\\t\", use_quote_delim=False),\n",
        "      num_parallel_calls=tf.data.experimental.AUTOTUNE)\n",
        "  \n",
        "  ds = ds.map(lambda *ex: dict(zip([\"input\", \"output\"], ex)))\n",
        "  return ds\n",
        "\n",
        "def preprocessing(ds):\n",
        "  def to_inputs_and_targets(ex):\n",
        "        inputs = tf.strings.join([ex['input']], separator=' ')\n",
        "        class_label = tf.strings.join([ex['output']], separator=' ')\n",
        "        return {'inputs': inputs, 'targets': class_label }\n",
        "    \n",
        "  return ds.map(to_inputs_and_targets, \n",
        "                num_parallel_calls=tf.data.experimental.AUTOTUNE)\n",
        "  \n",
        "t5.data.TaskRegistry.remove(fine_tuning_task)\n",
        "t5.data.TaskRegistry.add(\n",
        "    fine_tuning_task,\n",
        "    dataset_fn=nq_dataset_bug_fix,\n",
        "    splits=[\"train\", \"validation\"],\n",
        "    text_preprocessor=[bug_fix_preprocessing],\n",
        "    output_features = DEFAULT_OUTPUT_FEATURES,\n",
        "    metric_fns=[t5.evaluation.metrics.accuracy],\n",
        "    num_input_examples=num_nq_examples_bug_fix\n",
        ")\n",
        "\n",
        "nq_task = t5.data.TaskRegistry.get(fine_tuning_task)\n",
        "ds = nq_task.get_dataset(split=\"train\", sequence_length={\"inputs\": 512, \"targets\": 512})"
      ],
      "metadata": {
        "id": "aIvNjIMd19Em"
      },
      "execution_count": 3,
      "outputs": []
    },
    {
      "cell_type": "code",
      "source": [
        "def _rate_num_input_examples(task):\n",
        "  if \"train\" in task.splits:\n",
        "    return float(task.num_input_examples(\"train\"))\n",
        "  elif \"validation\" in task.splits:\n",
        "    return float(task.num_input_examples(\"validation\"))\n",
        "  else:\n",
        "    raise ValueError(\"Task %s does not have a train or validation split.\" % (task.name))"
      ],
      "metadata": {
        "id": "aE1gbJ-n3wg2"
      },
      "execution_count": null,
      "outputs": []
    },
    {
      "cell_type": "code",
      "source": [
        "## BUG-FIX\n",
        "t5.data.MixtureRegistry.remove(fine_tuning_task)\n",
        "t5.data.MixtureRegistry.add(\n",
        "    fine_tuning_task,\n",
        "    [fine_tuning_task],\n",
        "    default_rate=_rate_num_input_examples\n",
        ")"
      ],
      "metadata": {
        "id": "8Gz_WfLq35fw"
      },
      "execution_count": 4,
      "outputs": []
    },
    {
      "cell_type": "code",
      "source": [
        "#@title ## Select fine-tuning with or without pre-training, pre-trained checkpoint path, output model path\n",
        "fine_tuning = \"fine-tuning_with_pre-training/\" #@param [\"fine-tuning_with_pre-training/\", \"fine-tuning_without_pre-training/\"]\n",
        "\n",
        "# Specify the pre-trained dir (if needed) which must contain:\n",
        "#  - the pre-trained models,\n",
        "#  - the operative_config.gin file \n",
        "#  - the checkpoint files as well\n",
        "PRETRAINED_DIR= 'gs://literature_review/models/pre-training/MLM/' #@param {type:\"string\"} \n",
        "\n",
        "############ output path ############\n",
        "MODEL_DIR = 'gs://literature_review/models/fine-tuning/bug_fix/MLM/' #@param {type:\"string\"} \n",
        "\n",
        "# our T5 selected architecture\n",
        "MODEL_SIZE = \"small\"\n",
        "\n",
        "model_parallelism, train_batch_size, keep_checkpoint_max = {\n",
        "    \"small\": (1, 256, 200),\n",
        "    \"base\": (2, 128, 8),\n",
        "    \"large\": (8, 64, 4),\n",
        "    \"3B\": (8, 16, 1),\n",
        "    \"11B\": (8, 16, 1)}[MODEL_SIZE]\n"
      ],
      "metadata": {
        "id": "tVkaJcu54F-R"
      },
      "execution_count": null,
      "outputs": []
    },
    {
      "cell_type": "code",
      "source": [
        "from mesh_tensorflow.transformer.learning_rate_schedules import slanted_triangular \n",
        "from mesh_tensorflow.transformer.learning_rate_schedules import truncated_rsqrt\n",
        "from tensorflow.keras.optimizers.schedules import PolynomialDecay\n",
        "\n",
        "starter_learning_rate = 0.05\n",
        "end_learning_rate = 0.001\n",
        "decay_steps = 10000\n",
        "\n",
        "learning_rate_fn = PolynomialDecay(\n",
        "    starter_learning_rate,\n",
        "    decay_steps,\n",
        "    end_learning_rate,\n",
        "    power=0.5)\n",
        "\n",
        "# learning rate scheduler\n",
        "selected_learning_rate_scheduler = slanted_triangular\n",
        "PATH_GIN_FILE = 'gs://literature_review/utils/operative_config_slanted.gin'\n",
        "\n",
        "# changed by Sara\n",
        "#@title Select a learning rate scheduler\n",
        "number_of_steps = 300000 #@param {type:\"integer\"}\n",
        "\n",
        "pretraining_steps = 0\n",
        "if fine_tuning == \"fine-tuning_with_pre-training/\":\n",
        "  pretraining_steps = 156250\n",
        "\n",
        "tf.io.gfile.makedirs(MODEL_DIR)\n",
        "\n",
        "from t5 import models\n",
        "\n",
        "model = t5.models.MtfModel(\n",
        "    model_dir=MODEL_DIR,\n",
        "    tpu=TPU_ADDRESS,\n",
        "    tpu_topology=TPU_TOPOLOGY,\n",
        "    model_parallelism=model_parallelism,\n",
        "    batch_size=train_batch_size,\n",
        "    learning_rate_schedule = selected_learning_rate_scheduler,\n",
        "    sequence_length={\"inputs\": 512, \"targets\": 512},\n",
        "    save_checkpoints_steps=10000,\n",
        "    keep_checkpoint_max=keep_checkpoint_max if ON_CLOUD else None,\n",
        "    iterations_per_loop=100,\n",
        ")\n",
        "\n",
        "!gsutil cp {PATH_GIN_FILE}  ./config.gin\n",
        "# modify gin file\n",
        "gin_lines = [line for line in open(\"./config.gin\")]\n",
        "f = open(\"./config.gin\", \"w+\")\n",
        "for i in range(len(gin_lines)):\n",
        "  if i == 196 and fine_tuning == \"fine-tuning_without_pre-training/\":\n",
        "    line = \"slanted_triangular.start_step = 0\\n\"\n",
        "    f.write(line)\n",
        "    continue\n",
        "  if i == 197:\n",
        "    line = \"slanted_triangular.total_train_steps = \" + str(number_of_steps + pretraining_steps) + '\\n'\n",
        "    f.write(line)\n",
        "    continue\n",
        "  f.write(gin_lines[i])\n",
        "f.close()"
      ],
      "metadata": {
        "id": "YhvW1KRc4C-i"
      },
      "execution_count": 5,
      "outputs": []
    },
    {
      "cell_type": "code",
      "source": [
        "import gin\n",
        "\n",
        "if fine_tuning == \"fine-tuning_without_pre-training/\":\n",
        "  # NON PRETRAINED\n",
        "  with gin.unlock_config():    \n",
        "      gin.parse_config_file(\"./config.gin\")\n",
        "      TRAIN_STEPS = number_of_steps\n",
        "      model.train(task, steps=number_of_steps)\n",
        "\n",
        "else:\n",
        "  # PRETRAINED\n",
        "  with gin.unlock_config():\n",
        "      gin.parse_config_file(\"./config.gin\")\n",
        "      #RUN FINE-TUNING\n",
        "      model.finetune(\n",
        "          mixture_or_task_name=task,\n",
        "          pretrained_model_dir=PRETRAINED_DIR,\n",
        "            finetune_steps=number_of_steps\n",
        "      )"
      ],
      "metadata": {
        "id": "3t5bovRK7C1O"
      },
      "execution_count": null,
      "outputs": []
    },
    {
      "cell_type": "markdown",
      "source": [
        "# Evaluation\n",
        "\n",
        "---\n",
        "\n"
      ],
      "metadata": {
        "id": "UQWX8XXJ5w8U"
      }
    },
    {
      "cell_type": "code",
      "source": [
        "checkpoints = [x for x in range(10000, 500000, 10000)]\n",
        "\n",
        "# Use a larger batch size for evaluation, which requires less memory.\n",
        "model.batch_size = 1024\n",
        "model.eval(\n",
        "    mixture_or_task_name=task,\n",
        "    # -1 will evaluate the last checkpoint, you can also provide \n",
        "    # a list of checkpoints with the following format : [10000, 20000, 30000]\n",
        "    checkpoint_steps=checkpoints,\n",
        "    split=\"validation\"\n",
        "    )"
      ],
      "metadata": {
        "id": "ZkJ9hPAubW8k"
      },
      "execution_count": 6,
      "outputs": []
    },
    {
      "cell_type": "markdown",
      "source": [
        "# Predictions\n",
        "\n",
        "---"
      ],
      "metadata": {
        "id": "veXqF0sNuJLq"
      }
    },
    {
      "cell_type": "code",
      "source": [
        "#@title ## Set the model checkpoint you want to test\n",
        "best_checkpoint = 196250 #@param {type:\"integer\"}"
      ],
      "metadata": {
        "id": "1ri5ygGiuh8V"
      },
      "execution_count": null,
      "outputs": []
    },
    {
      "cell_type": "code",
      "source": [
        "# load test data\n",
        "import pandas as pd\n",
        "\n",
        "#@title ## set the test set path\n",
        "test_set_path = 'gs://literature_review/data/fine-tuning/bug-fix/test.tsv' #@param {type:\"string\"}\n",
        "!gsutil cp {test_set_path} ./test.tsv\n",
        "\n",
        "data = pd.read_csv('./test.tsv', sep='\\t', names=['source', 'target'])\n",
        "source = list(data['source'])\n",
        "target = list(data['target'])\n",
        "\n",
        "f_src = open('./test_source.txt', 'w')\n",
        "f_tgt = open('./test_target.txt', 'w')\n",
        "for i in range(len(data)):\n",
        "    f_src.write(source[i] + '\\n')\n",
        "    f_tgt.write(target[i] + '\\n')\n",
        "f_src.close()\n",
        "f_tgt.close()"
      ],
      "metadata": {
        "id": "-Fd2ir8rutzr"
      },
      "execution_count": 7,
      "outputs": []
    },
    {
      "cell_type": "code",
      "source": [
        "# generate predictions\n",
        "model.predict(input_file='./test_source.txt', output_file='./output.txt', checkpoint_steps=[best_checkpoint],\n",
        "              beam_size=1, temperature=1.0, keep_top_k=-1, vocabulary=get_default_vocabulary())"
      ],
      "metadata": {
        "id": "bJLk5Gd1uNJD"
      },
      "execution_count": 8,
      "outputs": []
    },
    {
      "cell_type": "code",
      "source": [
        "# eval predictions\n",
        "predictions = [line.strip() for line in open('./output.txt-' + str(best_checkpoint), 'r')]\n",
        "target = [line.strip() for line in open('./test_target.txt', 'r')]\n",
        "\n",
        "print('num predictions:', len(predictions))\n",
        "print('num target:', len(target))\n",
        "\n",
        "n = len(target)\n",
        "correct_predictions = 0\n",
        "for i in range(n):\n",
        "    pred = predictions[i].replace(' ', '')\n",
        "    tgt = target[i].replace(' ', '')\n",
        "    if pred == tgt:\n",
        "        correct_predictions += 1\n",
        "print('correct predictions: ' + str(correct_predictions)+ '/' + str(n))\n",
        "percent = round(correct_predictions * 100 / n, 2)\n",
        "print(str(percent) + '%')"
      ],
      "metadata": {
        "id": "rdgxRXJn_z6-"
      },
      "execution_count": 9,
      "outputs": []
    }
  ]
}